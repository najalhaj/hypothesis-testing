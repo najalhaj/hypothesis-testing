{
 "cells": [
  {
   "cell_type": "markdown",
   "id": "858408d8",
   "metadata": {},
   "source": [
    "<h2>Contents</h2>\n",
    "<ul style=\"list-style:none\">\n",
    "    <li><a href=\"#intro\">1 Introduction</a>\n",
    "        <ul style=\"list-style:none\">\n",
    "            <li><a href=\"#intro\">1.1 Introduction</a></li>\n",
    "            <li><a href=\"#overview\">1.2 Overview</a></li>\n",
    "            <li><a href=\"#data\">1.3 The Data</a></li>\n",
    "        </ul>\n",
    "    </li>\n",
    "    <li><a href=\"#intro\">2 Modelling</a>\n",
    "        <ul style=\"list-style:none\">\n",
    "            <li><a href=\"#general\">2.1 The General Model</a></li>\n",
    "            <li><a href=\"#metric\">2.2 The Econometric Model</a></li>\n",
    "            <li><a href=\"#reg\">2.3 The Sample Regression Equation</a></li>\n",
    "        </ul>\n",
    "    </li>\n",
    "    <li><a href=\"#hyp\">3 The Hypothesis</a></li>\n",
    "    <li><a href=\"#target\">4 Variables Selection</a></li>\n",
    "    <li><a href=\"#desc\">5 Descriptive Statistics</a></li>\n",
    "    <li><a href=\"#reg-res\">6 OLS Regression Results</a>\n",
    "        <ul style=\"list-style:none\">\n",
    "            <li><a href=\"#coef\">6.1 Coefficients of OLS Regression Equation</a></li>\n",
    "            <li><a href=\"#reg-eq\">6.2 OLS Regression Line</a></li>\n",
    "            <li><a href=\"#r2\">6.3 R-squared</a></li>\n",
    "        </ul>\n",
    "    </li>\n",
    "    <li><a href=\"#ttest\">7 The t Test</a>\n",
    "        <ul style=\"list-style:none\">\n",
    "            <li><a href=\"#t-stat\">7.1 The t Statistics</a></li>\n",
    "            <li><a href=\"#c\">7.2 Critical Values</a></li>\n",
    "            <li><a href=\"#tres\">7.3 The t Test Results</a></li>\n",
    "            <li><a href=\"#pval\">7.4 The p-value</a></li>\n",
    "            <li><a href=\"#ci\">7.5 Confidence Interval</a></li>\n",
    "        </ul>\n",
    "    </li>\n",
    "    <li><a href=\"#log\">8 The Linear-log Model</a>\n",
    "        <ul style=\"list-style:none\">\n",
    "            <li><a href=\"#ltarget\">8.1 Variables Selection for the Linear-log Regression</a></li>\n",
    "            <li><a href=\"#lres\">8.2 OLS Linear-log Regression Results</a></li>\n",
    "            <li><a href=\"#lcoef\">8.3 Coefficients of the linear-log regression equation</a></li>\n",
    "            <li><a href=\"#lreg-eq\">8.4 OLS Linear-log Regression Line</a></li>\n",
    "            <li><a href=\"#ltres\">8.5 The t Test Results on Linear-log Regression</a></li>\n",
    "            <li><a href=\"#lpval\">8.6 The p-value on Linear-log Regression</a></li>\n",
    "            <li><a href=\"#lci\">8.7 Confidence Intervals on Linear-log Regression</a></li>\n",
    "        </ul>\n",
    "    </li>\n",
    "    <li><a href=\"#end\">9 Conclusion</a></li>\n",
    "</ul>"
   ]
  },
  {
   "cell_type": "markdown",
   "id": "cf3bc40e",
   "metadata": {},
   "source": [
    "<a id=\"intro\"></a>\n",
    "<h3>Introduction</h3>\n",
    "<p>There is much interest in the effect of school size on student performance. One claim is that, everything else being equal, students at smaller schools fare better than those at larger schools. This hypothesis is assumed to be true even after accounting for differences in class sizes across schools.</p>"
   ]
  },
  {
   "cell_type": "markdown",
   "id": "33457071",
   "metadata": {},
   "source": [
    "<a id=\"overview\"></a>\n",
    "<h3>Overview</h3>\n",
    "<p>This is a multiple regression model that serves as a learning tool for self-education. I used <strong>pandas, Statsmodels</strong> and <strong>SciPy</strong> to reproduce example 4.2 from <a href='https://www.cengage.uk/c/introductory-econometrics-a-modern-approach-7e-wooldridge/9781337558860/'>Introductory Econometrics: A Modern Approach, by Jeffrey M. Wooldridge</a>.</p>"
   ]
  },
  {
   "cell_type": "markdown",
   "id": "ac5f2ea6",
   "metadata": {},
   "source": [
    "<a id=\"data\"></a>\n",
    "<h3>The Data</h3>\n",
    "<p>The file MEAP93 contains data on 408 high schools in Michigan for the year 1993. The dataset used for the example is publicly available in six different formats from the 5th edition (Wooldridge 2013, ISBN-13: 978-1-111-53104-1, ISBN-10: 1-111-53104-8).<br />For a short description of the dataset along with the sources, chick <a href='https://rdrr.io/cran/wooldridge/man/meap93.html'>here</a>.</p>"
   ]
  },
  {
   "cell_type": "code",
   "execution_count": 2,
   "id": "cd4ce16e",
   "metadata": {},
   "outputs": [],
   "source": [
    "import pandas as pd\n",
    "import statsmodels.api as sm\n",
    "import scipy.stats as st\n",
    "import matplotlib.pyplot as plt\n",
    "import seaborn as sns"
   ]
  },
  {
   "cell_type": "code",
   "execution_count": 7,
   "id": "28e3dba4",
   "metadata": {},
   "outputs": [],
   "source": [
    "url = 'https://github.com/najalhaj/hypothesis-testing/blob/3f61a20817d76e0437cf772d702384bff48e3b82/MEAP93.DTA'"
   ]
  },
  {
   "cell_type": "code",
   "execution_count": 8,
   "id": "bd04c860",
   "metadata": {},
   "outputs": [
    {
     "data": {
      "text/html": [
       "<div>\n",
       "<style scoped>\n",
       "    .dataframe tbody tr th:only-of-type {\n",
       "        vertical-align: middle;\n",
       "    }\n",
       "\n",
       "    .dataframe tbody tr th {\n",
       "        vertical-align: top;\n",
       "    }\n",
       "\n",
       "    .dataframe thead th {\n",
       "        text-align: right;\n",
       "    }\n",
       "</style>\n",
       "<table border=\"1\" class=\"dataframe\">\n",
       "  <thead>\n",
       "    <tr style=\"text-align: right;\">\n",
       "      <th></th>\n",
       "      <th>lnchprg</th>\n",
       "      <th>enroll</th>\n",
       "      <th>staff</th>\n",
       "      <th>expend</th>\n",
       "      <th>salary</th>\n",
       "      <th>benefits</th>\n",
       "      <th>droprate</th>\n",
       "      <th>gradrate</th>\n",
       "      <th>math10</th>\n",
       "      <th>sci11</th>\n",
       "      <th>totcomp</th>\n",
       "      <th>ltotcomp</th>\n",
       "      <th>lexpend</th>\n",
       "      <th>lenroll</th>\n",
       "      <th>lstaff</th>\n",
       "      <th>bensal</th>\n",
       "      <th>lsalary</th>\n",
       "    </tr>\n",
       "  </thead>\n",
       "  <tbody>\n",
       "    <tr>\n",
       "      <th>0</th>\n",
       "      <td>1.4</td>\n",
       "      <td>1862</td>\n",
       "      <td>112.6</td>\n",
       "      <td>5765</td>\n",
       "      <td>37498</td>\n",
       "      <td>7420</td>\n",
       "      <td>2.9</td>\n",
       "      <td>89.2</td>\n",
       "      <td>56.4</td>\n",
       "      <td>67.9</td>\n",
       "      <td>44918</td>\n",
       "      <td>10.71259</td>\n",
       "      <td>8.659560</td>\n",
       "      <td>7.529407</td>\n",
       "      <td>4.723842</td>\n",
       "      <td>0.197877</td>\n",
       "      <td>10.53204</td>\n",
       "    </tr>\n",
       "    <tr>\n",
       "      <th>1</th>\n",
       "      <td>2.3</td>\n",
       "      <td>11355</td>\n",
       "      <td>101.2</td>\n",
       "      <td>6601</td>\n",
       "      <td>48722</td>\n",
       "      <td>10370</td>\n",
       "      <td>1.3</td>\n",
       "      <td>91.4</td>\n",
       "      <td>42.7</td>\n",
       "      <td>65.3</td>\n",
       "      <td>59092</td>\n",
       "      <td>10.98685</td>\n",
       "      <td>8.794976</td>\n",
       "      <td>9.337414</td>\n",
       "      <td>4.617099</td>\n",
       "      <td>0.212840</td>\n",
       "      <td>10.79389</td>\n",
       "    </tr>\n",
       "    <tr>\n",
       "      <th>2</th>\n",
       "      <td>2.7</td>\n",
       "      <td>7685</td>\n",
       "      <td>114.0</td>\n",
       "      <td>6834</td>\n",
       "      <td>44541</td>\n",
       "      <td>7313</td>\n",
       "      <td>3.5</td>\n",
       "      <td>91.4</td>\n",
       "      <td>43.8</td>\n",
       "      <td>54.3</td>\n",
       "      <td>51854</td>\n",
       "      <td>10.85619</td>\n",
       "      <td>8.829665</td>\n",
       "      <td>8.947025</td>\n",
       "      <td>4.736198</td>\n",
       "      <td>0.164186</td>\n",
       "      <td>10.70417</td>\n",
       "    </tr>\n",
       "    <tr>\n",
       "      <th>3</th>\n",
       "      <td>3.4</td>\n",
       "      <td>1148</td>\n",
       "      <td>85.4</td>\n",
       "      <td>3586</td>\n",
       "      <td>31566</td>\n",
       "      <td>5989</td>\n",
       "      <td>3.6</td>\n",
       "      <td>86.6</td>\n",
       "      <td>25.3</td>\n",
       "      <td>60.0</td>\n",
       "      <td>37555</td>\n",
       "      <td>10.53356</td>\n",
       "      <td>8.184793</td>\n",
       "      <td>7.045776</td>\n",
       "      <td>4.447346</td>\n",
       "      <td>0.189729</td>\n",
       "      <td>10.35984</td>\n",
       "    </tr>\n",
       "    <tr>\n",
       "      <th>4</th>\n",
       "      <td>3.4</td>\n",
       "      <td>1572</td>\n",
       "      <td>96.1</td>\n",
       "      <td>3847</td>\n",
       "      <td>29781</td>\n",
       "      <td>5545</td>\n",
       "      <td>0.0</td>\n",
       "      <td>100.0</td>\n",
       "      <td>15.3</td>\n",
       "      <td>65.8</td>\n",
       "      <td>35326</td>\n",
       "      <td>10.47237</td>\n",
       "      <td>8.255049</td>\n",
       "      <td>7.360104</td>\n",
       "      <td>4.565389</td>\n",
       "      <td>0.186193</td>\n",
       "      <td>10.30163</td>\n",
       "    </tr>\n",
       "  </tbody>\n",
       "</table>\n",
       "</div>"
      ],
      "text/plain": [
       "   lnchprg  enroll  staff  expend  salary  benefits  droprate  gradrate  \\\n",
       "0      1.4    1862  112.6    5765   37498      7420       2.9      89.2   \n",
       "1      2.3   11355  101.2    6601   48722     10370       1.3      91.4   \n",
       "2      2.7    7685  114.0    6834   44541      7313       3.5      91.4   \n",
       "3      3.4    1148   85.4    3586   31566      5989       3.6      86.6   \n",
       "4      3.4    1572   96.1    3847   29781      5545       0.0     100.0   \n",
       "\n",
       "   math10  sci11  totcomp  ltotcomp   lexpend   lenroll    lstaff    bensal  \\\n",
       "0    56.4   67.9    44918  10.71259  8.659560  7.529407  4.723842  0.197877   \n",
       "1    42.7   65.3    59092  10.98685  8.794976  9.337414  4.617099  0.212840   \n",
       "2    43.8   54.3    51854  10.85619  8.829665  8.947025  4.736198  0.164186   \n",
       "3    25.3   60.0    37555  10.53356  8.184793  7.045776  4.447346  0.189729   \n",
       "4    15.3   65.8    35326  10.47237  8.255049  7.360104  4.565389  0.186193   \n",
       "\n",
       "    lsalary  \n",
       "0  10.53204  \n",
       "1  10.79389  \n",
       "2  10.70417  \n",
       "3  10.35984  \n",
       "4  10.30163  "
      ]
     },
     "execution_count": 8,
     "metadata": {},
     "output_type": "execute_result"
    }
   ],
   "source": [
    "df = pd.read_stata(url)\n",
    "df.head()"
   ]
  },
  {
   "cell_type": "markdown",
   "id": "d1fce0d4",
   "metadata": {},
   "source": [
    "<hr style=\"height:2px;border-width:0;color:gray;background-color:gray\">"
   ]
  },
  {
   "cell_type": "markdown",
   "id": "ec910846",
   "metadata": {},
   "source": [
    "<a id=\"general\"></a>\n",
    "<h3>The General Model</h3>\n",
    "<p style=\"text-align:center; font-size:1.5em; color:blue\">\n",
    "$\n",
    "math10 = f(totcomp, sta\\hspace{-0.1em}f\\hspace{-0.2em}f, enroll),\n",
    "$\n",
    "</p>\n",
    "\n",
    "<p><font size=\"4\" face=\"Times New Roman\"><em><strong>where</strong></em></font></p>\n",
    "\n",
    "<div style=\"width:90%; display:table; padding-left:3%\">\n",
    "    <div style=\"width:70%; display:table-row-group\">\n",
    "        <div style=\"display:table-row\">\n",
    "            <div style=\"display:table-cell\">$math10$</div>\n",
    "            <div style=\"display:table-cell; padding-left:2%\">= percentage of students receiving a passing score on the Michigan Educational Assessment Program (MEAP) standardized tenth-grade math test (a measure of performance),</div>\n",
    "        </div>\n",
    "        <div style=\"display: table-row\">\n",
    "            <div style=\"display:table-cell\">$totcomp$</div>\n",
    "            <div style=\"display:table-cell; padding-left:2%\">= average annual teacher compensation, salary and benefits, in dollars (a measure of teacher quality),</div>\n",
    "        </div>\n",
    "        <div style=\"display: table-row\">\n",
    "            <div style=\"display:table-cell\">$sta\\hspace{-0.1em}f\\hspace{-0.2em}f$</div>\n",
    "            <div style=\"display:table-cell; padding-left:2%\">= number of staff per 1000 students, (a rough\n",
    "measure of how much attention students receive), and</div>\n",
    "        </div>\n",
    "        <div style=\"display: table-row\">\n",
    "            <div style=\"display:table-cell\">$enroll$</div>\n",
    "            <div style=\"display:table-cell; padding-left:2%\">= student enrollment (a measure of school size).</div>\n",
    "        </div>\n",
    "    </div>\n",
    "</div>"
   ]
  },
  {
   "cell_type": "markdown",
   "id": "ded41f73",
   "metadata": {},
   "source": [
    "<hr style=\"height:2px;border-width:0;color:gray;background-color:gray\">\n",
    "<!-- <hr style=\"margin-top: 0.5em; margin-bottom: 0.5em; margin-left: auto; margin-right: auto; border-style: dotted; border-width: 1px; border-color: black\"> -->"
   ]
  },
  {
   "cell_type": "markdown",
   "id": "4bc28951",
   "metadata": {},
   "source": [
    "<a id=\"metric\"></a>\n",
    "<h3>The Econometric Model (Population Model)</h3>\n",
    "<p style=\"text-align:center; font-size:1.5em; color:blue\">\n",
    "$\n",
    "math10 = \\beta_0 + \\beta_1 totcomp +\\beta_2 sta\\hspace{-0.1em}f\\hspace{-0.2em}f + \\beta_3 enroll + u,\n",
    "$\n",
    "</p>\n",
    "\n",
    "<p><font size=\"4\" face=\"Times New Roman\"><em><strong>where</strong></em></font></p>\n",
    "\n",
    "<div style=\"width:90%; display:table; padding-left:3%\">\n",
    "    <div style=\"width:80%; display:table-row-group\">\n",
    "        <div style=\"display:table-row\">\n",
    "            <div style=\"display:table-cell\">$u$</div>\n",
    "            <div style=\"display:table-cell\">= the error term, represents factors affecting $math10$ other than $totcomp$, $sta\\hspace{-0.1em}f\\hspace{-0.2em}f$ and $enroll$ (unobserved factors), and</div>\n",
    "        </div>\n",
    "    </div>\n",
    "</div>\n",
    "<p style=\"padding-left:3%\"><font size=\"3\" face=\"Times New Roman\">$\\beta_3$ is the parameter of interest.</font></p>"
   ]
  },
  {
   "cell_type": "markdown",
   "id": "f8c191fe",
   "metadata": {},
   "source": [
    "<hr style=\"height:2px;border-width:0;color:gray;background-color:gray\">"
   ]
  },
  {
   "cell_type": "markdown",
   "id": "26d0baba",
   "metadata": {},
   "source": [
    "<a id=\"reg\"></a>\n",
    "<h3>The Sample Regression Equation</h3>\n",
    "<p style=\"text-align:center; font-size:1.5em; color:blue\">\n",
    "$\n",
    "\\widehat{math10} = \\beta_0 + \\beta_1 totcomp +\\beta_2 sta\\hspace{-0.1em}f\\hspace{-0.2em}f + \\beta_3 enroll\n",
    "$\n",
    "</p>"
   ]
  },
  {
   "cell_type": "markdown",
   "id": "d827593f",
   "metadata": {},
   "source": [
    "<hr style=\"height:2px;border-width:0;color:gray;background-color:gray\">"
   ]
  },
  {
   "cell_type": "markdown",
   "id": "a360ecf4",
   "metadata": {},
   "source": [
    "<a id=\"hyp\"></a>\n",
    "<h3>Hypothesis</h3>\n",
    "<p>Test the null hypothesis that school size $enroll$, controlling for $totcomp$ and $sta\\hspace{-0.1em}f\\hspace{-0.2em}f$, has no effect on standardized test scores, against the alternative that size has a negative effect.</p>\n",
    "\n",
    "<p style=\"font-size:1.1em\">$H_0 : \\beta_{enroll} = 0$ <span style=\"color:gray\">(variable $enroll$ has no influence on $math10$ in the population \"partial effect is zero\")</span></p>\n",
    "<p style=\"font-size:1.1em\">$H_1 : \\beta_{enroll} < 0$ <span style=\"color:gray\">(variable $enroll$ has significant negative impact on $math10$ in the population)</span></p>\n",
    "\n",
    "<p><font size=\"4\" face=\"Times New Roman\"><em><strong>where</strong></em></font></p>\n",
    "\n",
    "<div style=\"width:70%; display:table; padding-left:3%\">\n",
    "    <div style=\"width:50%; display:table-row-group\">\n",
    "        <div style=\"display: table-row; font-size:1.1em\">\n",
    "            <div style=\"display:table-cell\">$\\beta_{enroll}$</div>\n",
    "            <div style=\"display:table-cell\">= the unknown population parameter.</div>\n",
    "        </div>\n",
    "    </div>\n",
    "</div>"
   ]
  },
  {
   "cell_type": "markdown",
   "id": "8509efb7",
   "metadata": {},
   "source": [
    "<hr style=\"height:2px;border-width:0;color:gray;background-color:gray\">"
   ]
  },
  {
   "cell_type": "code",
   "execution_count": 4,
   "id": "59e606f8",
   "metadata": {},
   "outputs": [
    {
     "data": {
      "text/plain": [
       "Index(['lnchprg', 'enroll', 'staff', 'expend', 'salary', 'benefits',\n",
       "       'droprate', 'gradrate', 'math10', 'sci11', 'totcomp', 'ltotcomp',\n",
       "       'lexpend', 'lenroll', 'lstaff', 'bensal', 'lsalary'],\n",
       "      dtype='object')"
      ]
     },
     "execution_count": 4,
     "metadata": {},
     "output_type": "execute_result"
    }
   ],
   "source": [
    "df.columns"
   ]
  },
  {
   "cell_type": "markdown",
   "id": "f588723c",
   "metadata": {},
   "source": [
    "<a id=\"target\"></a>"
   ]
  },
  {
   "cell_type": "code",
   "execution_count": 5,
   "id": "ea171061",
   "metadata": {},
   "outputs": [
    {
     "data": {
      "text/html": [
       "<div>\n",
       "<style scoped>\n",
       "    .dataframe tbody tr th:only-of-type {\n",
       "        vertical-align: middle;\n",
       "    }\n",
       "\n",
       "    .dataframe tbody tr th {\n",
       "        vertical-align: top;\n",
       "    }\n",
       "\n",
       "    .dataframe thead th {\n",
       "        text-align: right;\n",
       "    }\n",
       "</style>\n",
       "<table border=\"1\" class=\"dataframe\">\n",
       "  <thead>\n",
       "    <tr style=\"text-align: right;\">\n",
       "      <th></th>\n",
       "      <th>math10</th>\n",
       "      <th>totcomp</th>\n",
       "      <th>staff</th>\n",
       "      <th>enroll</th>\n",
       "    </tr>\n",
       "  </thead>\n",
       "  <tbody>\n",
       "    <tr>\n",
       "      <th>0</th>\n",
       "      <td>56.400002</td>\n",
       "      <td>44918.0</td>\n",
       "      <td>112.599998</td>\n",
       "      <td>1862</td>\n",
       "    </tr>\n",
       "    <tr>\n",
       "      <th>1</th>\n",
       "      <td>42.700001</td>\n",
       "      <td>59092.0</td>\n",
       "      <td>101.199997</td>\n",
       "      <td>11355</td>\n",
       "    </tr>\n",
       "    <tr>\n",
       "      <th>2</th>\n",
       "      <td>43.799999</td>\n",
       "      <td>51854.0</td>\n",
       "      <td>114.000000</td>\n",
       "      <td>7685</td>\n",
       "    </tr>\n",
       "    <tr>\n",
       "      <th>3</th>\n",
       "      <td>25.299999</td>\n",
       "      <td>37555.0</td>\n",
       "      <td>85.400002</td>\n",
       "      <td>1148</td>\n",
       "    </tr>\n",
       "    <tr>\n",
       "      <th>4</th>\n",
       "      <td>15.300000</td>\n",
       "      <td>35326.0</td>\n",
       "      <td>96.099998</td>\n",
       "      <td>1572</td>\n",
       "    </tr>\n",
       "  </tbody>\n",
       "</table>\n",
       "</div>"
      ],
      "text/plain": [
       "      math10  totcomp       staff  enroll\n",
       "0  56.400002  44918.0  112.599998    1862\n",
       "1  42.700001  59092.0  101.199997   11355\n",
       "2  43.799999  51854.0  114.000000    7685\n",
       "3  25.299999  37555.0   85.400002    1148\n",
       "4  15.300000  35326.0   96.099998    1572"
      ]
     },
     "execution_count": 5,
     "metadata": {},
     "output_type": "execute_result"
    }
   ],
   "source": [
    "# target\n",
    "data = df[['math10', 'totcomp', 'staff', 'enroll']]\n",
    "data.head()"
   ]
  },
  {
   "cell_type": "code",
   "execution_count": 6,
   "id": "c31fa56b",
   "metadata": {},
   "outputs": [
    {
     "name": "stdout",
     "output_type": "stream",
     "text": [
      "<class 'pandas.core.frame.DataFrame'>\n",
      "RangeIndex: 408 entries, 0 to 407\n",
      "Data columns (total 4 columns):\n",
      " #   Column   Non-Null Count  Dtype  \n",
      "---  ------   --------------  -----  \n",
      " 0   math10   408 non-null    float32\n",
      " 1   totcomp  408 non-null    float32\n",
      " 2   staff    408 non-null    float32\n",
      " 3   enroll   408 non-null    int16  \n",
      "dtypes: float32(3), int16(1)\n",
      "memory usage: 5.7 KB\n"
     ]
    }
   ],
   "source": [
    "# check for missing values\n",
    "data.info()"
   ]
  },
  {
   "cell_type": "code",
   "execution_count": 7,
   "id": "7c57cb28",
   "metadata": {},
   "outputs": [
    {
     "data": {
      "text/plain": [
       "(408, 4)"
      ]
     },
     "execution_count": 7,
     "metadata": {},
     "output_type": "execute_result"
    }
   ],
   "source": [
    "\n",
    "data.shape"
   ]
  },
  {
   "cell_type": "markdown",
   "id": "42cd0796",
   "metadata": {},
   "source": [
    "<hr style=\"height:2px;border-width:0;color:gray;background-color:gray\">"
   ]
  },
  {
   "cell_type": "markdown",
   "id": "63ea05db",
   "metadata": {},
   "source": [
    "<a id=\"desc\"></a>\n",
    "<h3>Summary statistics</h3>"
   ]
  },
  {
   "cell_type": "code",
   "execution_count": 8,
   "id": "7df21fe0",
   "metadata": {},
   "outputs": [
    {
     "data": {
      "text/html": [
       "<div>\n",
       "<style scoped>\n",
       "    .dataframe tbody tr th:only-of-type {\n",
       "        vertical-align: middle;\n",
       "    }\n",
       "\n",
       "    .dataframe tbody tr th {\n",
       "        vertical-align: top;\n",
       "    }\n",
       "\n",
       "    .dataframe thead th {\n",
       "        text-align: right;\n",
       "    }\n",
       "</style>\n",
       "<table border=\"1\" class=\"dataframe\">\n",
       "  <thead>\n",
       "    <tr style=\"text-align: right;\">\n",
       "      <th></th>\n",
       "      <th>count</th>\n",
       "      <th>mean</th>\n",
       "      <th>std</th>\n",
       "      <th>min</th>\n",
       "      <th>25%</th>\n",
       "      <th>50%</th>\n",
       "      <th>75%</th>\n",
       "      <th>max</th>\n",
       "    </tr>\n",
       "  </thead>\n",
       "  <tbody>\n",
       "    <tr>\n",
       "      <th>math10</th>\n",
       "      <td>408.0</td>\n",
       "      <td>24.106861</td>\n",
       "      <td>10.493613</td>\n",
       "      <td>1.900000</td>\n",
       "      <td>16.625000</td>\n",
       "      <td>23.4</td>\n",
       "      <td>30.050</td>\n",
       "      <td>66.699997</td>\n",
       "    </tr>\n",
       "    <tr>\n",
       "      <th>totcomp</th>\n",
       "      <td>408.0</td>\n",
       "      <td>38237.937500</td>\n",
       "      <td>5985.085938</td>\n",
       "      <td>24498.000000</td>\n",
       "      <td>34032.000000</td>\n",
       "      <td>37443.5</td>\n",
       "      <td>41637.000</td>\n",
       "      <td>63518.000000</td>\n",
       "    </tr>\n",
       "    <tr>\n",
       "      <th>staff</th>\n",
       "      <td>408.0</td>\n",
       "      <td>100.641670</td>\n",
       "      <td>13.299519</td>\n",
       "      <td>65.900002</td>\n",
       "      <td>91.450001</td>\n",
       "      <td>99.0</td>\n",
       "      <td>108.025</td>\n",
       "      <td>166.600006</td>\n",
       "    </tr>\n",
       "    <tr>\n",
       "      <th>enroll</th>\n",
       "      <td>408.0</td>\n",
       "      <td>2663.806373</td>\n",
       "      <td>2696.820560</td>\n",
       "      <td>212.000000</td>\n",
       "      <td>1037.500000</td>\n",
       "      <td>1840.5</td>\n",
       "      <td>3084.750</td>\n",
       "      <td>16793.000000</td>\n",
       "    </tr>\n",
       "  </tbody>\n",
       "</table>\n",
       "</div>"
      ],
      "text/plain": [
       "         count          mean          std           min           25%  \\\n",
       "math10   408.0     24.106861    10.493613      1.900000     16.625000   \n",
       "totcomp  408.0  38237.937500  5985.085938  24498.000000  34032.000000   \n",
       "staff    408.0    100.641670    13.299519     65.900002     91.450001   \n",
       "enroll   408.0   2663.806373  2696.820560    212.000000   1037.500000   \n",
       "\n",
       "             50%        75%           max  \n",
       "math10      23.4     30.050     66.699997  \n",
       "totcomp  37443.5  41637.000  63518.000000  \n",
       "staff       99.0    108.025    166.600006  \n",
       "enroll    1840.5   3084.750  16793.000000  "
      ]
     },
     "execution_count": 8,
     "metadata": {},
     "output_type": "execute_result"
    }
   ],
   "source": [
    "data.describe().T"
   ]
  },
  {
   "cell_type": "code",
   "execution_count": 9,
   "id": "2ed94972",
   "metadata": {},
   "outputs": [
    {
     "data": {
      "text/html": [
       "<div>\n",
       "<style scoped>\n",
       "    .dataframe tbody tr th:only-of-type {\n",
       "        vertical-align: middle;\n",
       "    }\n",
       "\n",
       "    .dataframe tbody tr th {\n",
       "        vertical-align: top;\n",
       "    }\n",
       "\n",
       "    .dataframe thead th {\n",
       "        text-align: right;\n",
       "    }\n",
       "</style>\n",
       "<table border=\"1\" class=\"dataframe\">\n",
       "  <thead>\n",
       "    <tr style=\"text-align: right;\">\n",
       "      <th></th>\n",
       "      <th>math10</th>\n",
       "      <th>totcomp</th>\n",
       "      <th>staff</th>\n",
       "      <th>enroll</th>\n",
       "    </tr>\n",
       "  </thead>\n",
       "  <tbody>\n",
       "    <tr>\n",
       "      <th>math10</th>\n",
       "      <td>1.000000</td>\n",
       "      <td>0.221946</td>\n",
       "      <td>-0.005791</td>\n",
       "      <td>0.071699</td>\n",
       "    </tr>\n",
       "    <tr>\n",
       "      <th>totcomp</th>\n",
       "      <td>0.221946</td>\n",
       "      <td>1.000000</td>\n",
       "      <td>-0.257681</td>\n",
       "      <td>0.472229</td>\n",
       "    </tr>\n",
       "    <tr>\n",
       "      <th>staff</th>\n",
       "      <td>-0.005791</td>\n",
       "      <td>-0.257681</td>\n",
       "      <td>1.000000</td>\n",
       "      <td>-0.017291</td>\n",
       "    </tr>\n",
       "    <tr>\n",
       "      <th>enroll</th>\n",
       "      <td>0.071699</td>\n",
       "      <td>0.472229</td>\n",
       "      <td>-0.017291</td>\n",
       "      <td>1.000000</td>\n",
       "    </tr>\n",
       "  </tbody>\n",
       "</table>\n",
       "</div>"
      ],
      "text/plain": [
       "           math10   totcomp     staff    enroll\n",
       "math10   1.000000  0.221946 -0.005791  0.071699\n",
       "totcomp  0.221946  1.000000 -0.257681  0.472229\n",
       "staff   -0.005791 -0.257681  1.000000 -0.017291\n",
       "enroll   0.071699  0.472229 -0.017291  1.000000"
      ]
     },
     "execution_count": 9,
     "metadata": {},
     "output_type": "execute_result"
    }
   ],
   "source": [
    "# Correlation Matrix\n",
    "data.corr()"
   ]
  },
  {
   "cell_type": "code",
   "execution_count": 10,
   "id": "4a521fbf",
   "metadata": {},
   "outputs": [
    {
     "data": {
      "text/plain": [
       "Text(0.5, 1.0, 'Correlation matrix')"
      ]
     },
     "execution_count": 10,
     "metadata": {},
     "output_type": "execute_result"
    },
    {
     "data": {
      "image/png": "[encoded data removed]",
      "text/plain": [
       "<Figure size 640x480 with 2 Axes>"
      ]
     },
     "metadata": {},
     "output_type": "display_data"
    }
   ],
   "source": [
    "corr_mtrx = data.corr()\n",
    "sns.heatmap(corr_mtrx, annot = True)\n",
    "plt.title(\"Correlation matrix\")"
   ]
  },
  {
   "cell_type": "markdown",
   "id": "3335c128",
   "metadata": {},
   "source": [
    "<hr style=\"height:2px;border-width:0;color:gray;background-color:gray\">"
   ]
  },
  {
   "cell_type": "code",
   "execution_count": 11,
   "id": "f18fd0e3",
   "metadata": {},
   "outputs": [
    {
     "data": {
      "text/plain": [
       "Index(['math10', 'totcomp', 'staff', 'enroll'], dtype='object')"
      ]
     },
     "execution_count": 11,
     "metadata": {},
     "output_type": "execute_result"
    }
   ],
   "source": [
    "data.columns"
   ]
  },
  {
   "cell_type": "code",
   "execution_count": 12,
   "id": "472e97ff",
   "metadata": {},
   "outputs": [],
   "source": [
    "data = sm.add_constant(data)"
   ]
  },
  {
   "cell_type": "code",
   "execution_count": 13,
   "id": "45b2d0b8",
   "metadata": {},
   "outputs": [
    {
     "data": {
      "text/plain": [
       "Index(['const', 'math10', 'totcomp', 'staff', 'enroll'], dtype='object')"
      ]
     },
     "execution_count": 13,
     "metadata": {},
     "output_type": "execute_result"
    }
   ],
   "source": [
    "data.columns"
   ]
  },
  {
   "cell_type": "code",
   "execution_count": 14,
   "id": "95717811",
   "metadata": {},
   "outputs": [
    {
     "data": {
      "text/plain": [
       "statsmodels.regression.linear_model.OLS"
      ]
     },
     "execution_count": 14,
     "metadata": {},
     "output_type": "execute_result"
    }
   ],
   "source": [
    "model = sm.OLS(endog=data['math10']\n",
    "               , exog=data[['const', 'totcomp', 'staff', 'enroll']]\n",
    "              )\n",
    "type(model)"
   ]
  },
  {
   "cell_type": "markdown",
   "id": "78f310a2",
   "metadata": {},
   "source": [
    "<a id=\"reg-res\"></a>"
   ]
  },
  {
   "cell_type": "code",
   "execution_count": 15,
   "id": "ddec0692",
   "metadata": {},
   "outputs": [
    {
     "data": {
      "text/html": [
       "<table class=\"simpletable\">\n",
       "<caption>OLS Regression Results</caption>\n",
       "<tr>\n",
       "  <th>Dep. Variable:</th>         <td>math10</td>      <th>  R-squared:         </th> <td>   0.054</td>\n",
       "</tr>\n",
       "<tr>\n",
       "  <th>Model:</th>                   <td>OLS</td>       <th>  Adj. R-squared:    </th> <td>   0.047</td>\n",
       "</tr>\n",
       "<tr>\n",
       "  <th>Method:</th>             <td>Least Squares</td>  <th>  F-statistic:       </th> <td>   7.697</td>\n",
       "</tr>\n",
       "<tr>\n",
       "  <th>Date:</th>             <td>Sat, 29 Jul 2023</td> <th>  Prob (F-statistic):</th> <td>5.18e-05</td>\n",
       "</tr>\n",
       "<tr>\n",
       "  <th>Time:</th>                 <td>06:28:09</td>     <th>  Log-Likelihood:    </th> <td> -1526.2</td>\n",
       "</tr>\n",
       "<tr>\n",
       "  <th>No. Observations:</th>      <td>   408</td>      <th>  AIC:               </th> <td>   3060.</td>\n",
       "</tr>\n",
       "<tr>\n",
       "  <th>Df Residuals:</th>          <td>   404</td>      <th>  BIC:               </th> <td>   3076.</td>\n",
       "</tr>\n",
       "<tr>\n",
       "  <th>Df Model:</th>              <td>     3</td>      <th>                     </th>     <td> </td>   \n",
       "</tr>\n",
       "<tr>\n",
       "  <th>Covariance Type:</th>      <td>nonrobust</td>    <th>                     </th>     <td> </td>   \n",
       "</tr>\n",
       "</table>\n",
       "<table class=\"simpletable\">\n",
       "<tr>\n",
       "     <td></td>        <th>coef</th>     <th>std err</th>      <th>t</th>      <th>P>|t|</th>  <th>[0.025</th>    <th>0.975]</th>  \n",
       "</tr>\n",
       "<tr>\n",
       "  <th>const</th>   <td>    2.2740</td> <td>    6.114</td> <td>    0.372</td> <td> 0.710</td> <td>   -9.745</td> <td>   14.293</td>\n",
       "</tr>\n",
       "<tr>\n",
       "  <th>totcomp</th> <td>    0.0005</td> <td>    0.000</td> <td>    4.570</td> <td> 0.000</td> <td>    0.000</td> <td>    0.001</td>\n",
       "</tr>\n",
       "<tr>\n",
       "  <th>staff</th>   <td>    0.0479</td> <td>    0.040</td> <td>    1.204</td> <td> 0.229</td> <td>   -0.030</td> <td>    0.126</td>\n",
       "</tr>\n",
       "<tr>\n",
       "  <th>enroll</th>  <td>   -0.0002</td> <td>    0.000</td> <td>   -0.918</td> <td> 0.359</td> <td>   -0.001</td> <td>    0.000</td>\n",
       "</tr>\n",
       "</table>\n",
       "<table class=\"simpletable\">\n",
       "<tr>\n",
       "  <th>Omnibus:</th>       <td>31.666</td> <th>  Durbin-Watson:     </th> <td>   1.669</td>\n",
       "</tr>\n",
       "<tr>\n",
       "  <th>Prob(Omnibus):</th> <td> 0.000</td> <th>  Jarque-Bera (JB):  </th> <td>  40.628</td>\n",
       "</tr>\n",
       "<tr>\n",
       "  <th>Skew:</th>          <td> 0.615</td> <th>  Prob(JB):          </th> <td>1.51e-09</td>\n",
       "</tr>\n",
       "<tr>\n",
       "  <th>Kurtosis:</th>      <td> 3.936</td> <th>  Cond. No.          </th> <td>4.68e+05</td>\n",
       "</tr>\n",
       "</table><br/><br/>Notes:<br/>[1] Standard Errors assume that the covariance matrix of the errors is correctly specified.<br/>[2] The condition number is large, 4.68e+05. This might indicate that there are<br/>strong multicollinearity or other numerical problems."
      ],
      "text/latex": [
       "\\begin{center}\n",
       "\\begin{tabular}{lclc}\n",
       "\\toprule\n",
       "\\textbf{Dep. Variable:}    &      math10      & \\textbf{  R-squared:         } &     0.054   \\\\\n",
       "\\textbf{Model:}            &       OLS        & \\textbf{  Adj. R-squared:    } &     0.047   \\\\\n",
       "\\textbf{Method:}           &  Least Squares   & \\textbf{  F-statistic:       } &     7.697   \\\\\n",
       "\\textbf{Date:}             & Sat, 29 Jul 2023 & \\textbf{  Prob (F-statistic):} &  5.18e-05   \\\\\n",
       "\\textbf{Time:}             &     06:28:09     & \\textbf{  Log-Likelihood:    } &   -1526.2   \\\\\n",
       "\\textbf{No. Observations:} &         408      & \\textbf{  AIC:               } &     3060.   \\\\\n",
       "\\textbf{Df Residuals:}     &         404      & \\textbf{  BIC:               } &     3076.   \\\\\n",
       "\\textbf{Df Model:}         &           3      & \\textbf{                     } &             \\\\\n",
       "\\textbf{Covariance Type:}  &    nonrobust     & \\textbf{                     } &             \\\\\n",
       "\\bottomrule\n",
       "\\end{tabular}\n",
       "\\begin{tabular}{lcccccc}\n",
       "                 & \\textbf{coef} & \\textbf{std err} & \\textbf{t} & \\textbf{P$> |$t$|$} & \\textbf{[0.025} & \\textbf{0.975]}  \\\\\n",
       "\\midrule\n",
       "\\textbf{const}   &       2.2740  &        6.114     &     0.372  &         0.710        &       -9.745    &       14.293     \\\\\n",
       "\\textbf{totcomp} &       0.0005  &        0.000     &     4.570  &         0.000        &        0.000    &        0.001     \\\\\n",
       "\\textbf{staff}   &       0.0479  &        0.040     &     1.204  &         0.229        &       -0.030    &        0.126     \\\\\n",
       "\\textbf{enroll}  &      -0.0002  &        0.000     &    -0.918  &         0.359        &       -0.001    &        0.000     \\\\\n",
       "\\bottomrule\n",
       "\\end{tabular}\n",
       "\\begin{tabular}{lclc}\n",
       "\\textbf{Omnibus:}       & 31.666 & \\textbf{  Durbin-Watson:     } &    1.669  \\\\\n",
       "\\textbf{Prob(Omnibus):} &  0.000 & \\textbf{  Jarque-Bera (JB):  } &   40.628  \\\\\n",
       "\\textbf{Skew:}          &  0.615 & \\textbf{  Prob(JB):          } & 1.51e-09  \\\\\n",
       "\\textbf{Kurtosis:}      &  3.936 & \\textbf{  Cond. No.          } & 4.68e+05  \\\\\n",
       "\\bottomrule\n",
       "\\end{tabular}\n",
       "%\\caption{OLS Regression Results}\n",
       "\\end{center}\n",
       "\n",
       "Notes: \\newline\n",
       " [1] Standard Errors assume that the covariance matrix of the errors is correctly specified. \\newline\n",
       " [2] The condition number is large, 4.68e+05. This might indicate that there are \\newline\n",
       " strong multicollinearity or other numerical problems."
      ],
      "text/plain": [
       "<class 'statsmodels.iolib.summary.Summary'>\n",
       "\"\"\"\n",
       "                            OLS Regression Results                            \n",
       "==============================================================================\n",
       "Dep. Variable:                 math10   R-squared:                       0.054\n",
       "Model:                            OLS   Adj. R-squared:                  0.047\n",
       "Method:                 Least Squares   F-statistic:                     7.697\n",
       "Date:                Sat, 29 Jul 2023   Prob (F-statistic):           5.18e-05\n",
       "Time:                        06:28:09   Log-Likelihood:                -1526.2\n",
       "No. Observations:                 408   AIC:                             3060.\n",
       "Df Residuals:                     404   BIC:                             3076.\n",
       "Df Model:                           3                                         \n",
       "Covariance Type:            nonrobust                                         \n",
       "==============================================================================\n",
       "                 coef    std err          t      P>|t|      [0.025      0.975]\n",
       "------------------------------------------------------------------------------\n",
       "const          2.2740      6.114      0.372      0.710      -9.745      14.293\n",
       "totcomp        0.0005      0.000      4.570      0.000       0.000       0.001\n",
       "staff          0.0479      0.040      1.204      0.229      -0.030       0.126\n",
       "enroll        -0.0002      0.000     -0.918      0.359      -0.001       0.000\n",
       "==============================================================================\n",
       "Omnibus:                       31.666   Durbin-Watson:                   1.669\n",
       "Prob(Omnibus):                  0.000   Jarque-Bera (JB):               40.628\n",
       "Skew:                           0.615   Prob(JB):                     1.51e-09\n",
       "Kurtosis:                       3.936   Cond. No.                     4.68e+05\n",
       "==============================================================================\n",
       "\n",
       "Notes:\n",
       "[1] Standard Errors assume that the covariance matrix of the errors is correctly specified.\n",
       "[2] The condition number is large, 4.68e+05. This might indicate that there are\n",
       "strong multicollinearity or other numerical problems.\n",
       "\"\"\""
      ]
     },
     "execution_count": 15,
     "metadata": {},
     "output_type": "execute_result"
    }
   ],
   "source": [
    "results = model.fit()\n",
    "results.summary()"
   ]
  },
  {
   "cell_type": "markdown",
   "id": "70d112b7",
   "metadata": {},
   "source": [
    "<hr style=\"height:2px;border-width:0;color:gray;background-color:gray\">"
   ]
  },
  {
   "cell_type": "code",
   "execution_count": 16,
   "id": "952360ad",
   "metadata": {},
   "outputs": [
    {
     "data": {
      "text/plain": [
       "const      2.274021\n",
       "totcomp    0.000459\n",
       "staff      0.047920\n",
       "enroll    -0.000198\n",
       "dtype: float64"
      ]
     },
     "execution_count": 16,
     "metadata": {},
     "output_type": "execute_result"
    }
   ],
   "source": [
    "results.params"
   ]
  },
  {
   "cell_type": "code",
   "execution_count": 17,
   "id": "718fab4b",
   "metadata": {},
   "outputs": [
    {
     "data": {
      "text/plain": [
       "2.274020932174543"
      ]
     },
     "execution_count": 17,
     "metadata": {},
     "output_type": "execute_result"
    }
   ],
   "source": [
    "res = results.params\n",
    "res\n",
    "res[0]"
   ]
  },
  {
   "cell_type": "code",
   "execution_count": 18,
   "id": "7f19b029",
   "metadata": {},
   "outputs": [
    {
     "data": {
      "text/plain": [
       "pandas.core.series.Series"
      ]
     },
     "execution_count": 18,
     "metadata": {},
     "output_type": "execute_result"
    }
   ],
   "source": [
    "type(res)"
   ]
  },
  {
   "cell_type": "code",
   "execution_count": 19,
   "id": "8c7b67ec",
   "metadata": {},
   "outputs": [
    {
     "data": {
      "text/plain": [
       "array([ 2.27402093e+00,  4.58611856e-04,  4.79198735e-02, -1.97561308e-04])"
      ]
     },
     "execution_count": 19,
     "metadata": {},
     "output_type": "execute_result"
    }
   ],
   "source": [
    "res.values"
   ]
  },
  {
   "cell_type": "code",
   "execution_count": 20,
   "id": "a52fb2c1",
   "metadata": {},
   "outputs": [
    {
     "data": {
      "text/plain": [
       "Index(['totcomp', 'staff', 'enroll'], dtype='object')"
      ]
     },
     "execution_count": 20,
     "metadata": {},
     "output_type": "execute_result"
    }
   ],
   "source": [
    "res.index[1:]"
   ]
  },
  {
   "cell_type": "markdown",
   "id": "c456b671",
   "metadata": {},
   "source": [
    "<a id=\"coef\"></a>"
   ]
  },
  {
   "cell_type": "code",
   "execution_count": 21,
   "id": "30e1f9bb",
   "metadata": {},
   "outputs": [
    {
     "data": {
      "text/plain": [
       "Text(0.5, 1.0, 'Coefficients of OLS Regression Equation')"
      ]
     },
     "execution_count": 21,
     "metadata": {},
     "output_type": "execute_result"
    },
    {
     "data": {
      "image/png": "[encoded data removed]",
      "text/plain": [
       "<Figure size 640x480 with 1 Axes>"
      ]
     },
     "metadata": {},
     "output_type": "display_data"
    }
   ],
   "source": [
    "# Plot the coefficients, to visualise the impact of each variable on math10 for a quick comparison.\n",
    "fig, ax = plt.subplots()\n",
    "\n",
    "ax.barh(res.index[1:], res.values[1:])\n",
    "\n",
    "ax.invert_yaxis()  # labels read top-to-bottom\n",
    "ax.set_title('Coefficients of OLS Regression Equation')"
   ]
  },
  {
   "cell_type": "code",
   "execution_count": 22,
   "id": "bdd6e8d1",
   "metadata": {},
   "outputs": [
    {
     "data": {
      "text/plain": [
       "const      2.274021\n",
       "totcomp    0.000459\n",
       "staff      0.047920\n",
       "enroll    -0.000198\n",
       "dtype: float64"
      ]
     },
     "execution_count": 22,
     "metadata": {},
     "output_type": "execute_result"
    }
   ],
   "source": [
    "results.params"
   ]
  },
  {
   "cell_type": "markdown",
   "id": "77f3d2c0",
   "metadata": {},
   "source": [
    "<a id=\"reg-eq\"></a>\n",
    "<h3>OLS regression line</h3>\n",
    "<p style=\"text-align:center; font-size:1.5em; color:blue\">$\n",
    "\\widehat{math10} = 2.274 + 0.00046 \\hspace{0.1cm} totcomp + 0.048 \\hspace{0.1cm} sta\\hspace{-0.1em}f\\hspace{-0.2em}f - 0.0002 \\hspace{0.1cm} enroll\n",
    "$</p>"
   ]
  },
  {
   "cell_type": "markdown",
   "id": "bcaed88b",
   "metadata": {},
   "source": [
    "<h3>Interpretation</h3>\n",
    "<h5><u>The slope estimates</u></h5>\n",
    "<p>There is a positive partial relationship between $math10$ and $totcomp$.<br /><strong>One thousand\n",
    "</strong> dollars increase in teacher compensation results in performance increase by 0.46 percentage points \n",
    " ($math10$ is measured as a percentage), holding $sta\\hspace{-0.1em}f\\hspace{-0.2em}f$ and $enroll$ fixed.</p>\n",
    "<p>There is a positive partial relationship between $math10$ and $sta\\hspace{-0.1em}f\\hspace{-0.2em}f$.<br /><strong>Ten</strong> staff per 1000 students increase in staff size results in performance increase by 0.48 percentage points, holding $totcomp$ and $enroll$ fixed.</p>\n",
    "<p>There is a negative partial relationship between $math10$ and $enroll$.<br /><strong>One thousand</strong> \n",
    "students increase in school size results in performance decrease by 0.2 percentage points, holding $totcomp$ and $sta\\hspace{-0.1em}f\\hspace{-0.2em}f$ fixed.</p>\n",
    "<h5><u>The constant</u></h5>\n",
    "<p>The intercept is the predicted performance increase by 2.274 percentage points if teaching quality, staff size and school size are all set as zero.</p>"
   ]
  },
  {
   "cell_type": "markdown",
   "id": "e4293c2a",
   "metadata": {},
   "source": [
    "<hr style=\"height:2px;border-width:0;color:gray;background-color:gray\">"
   ]
  },
  {
   "cell_type": "markdown",
   "id": "4b66a289",
   "metadata": {},
   "source": [
    "<a id=\"r2\"></a>"
   ]
  },
  {
   "cell_type": "code",
   "execution_count": 23,
   "id": "9693ea9f",
   "metadata": {},
   "outputs": [
    {
     "data": {
      "text/markdown": [
       "<p>$R^2$ $=$ $0.0541$</p>"
      ],
      "text/plain": [
       "<IPython.core.display.Markdown object>"
      ]
     },
     "execution_count": 23,
     "metadata": {},
     "output_type": "execute_result"
    }
   ],
   "source": [
    "from IPython.display import Markdown as md\n",
    "r2 = round(results.rsquared, 4)\n",
    "md('<p>{r2str} {eqstr} {r2vlustr}</p>'.format(r2str='$R^2$', eqstr='$=$', r2vlustr=f'${r2}$'))"
   ]
  },
  {
   "cell_type": "markdown",
   "id": "2df9952f",
   "metadata": {},
   "source": [
    "<h4>Interpretation</h4>\n",
    "<p>The independent variables - teaching quality, staff size and school size - <strong><em>explain</em></strong> \n",
    "only about 5.41% of the variation in $math10$ for this sample.<br />That means that 94.59% of the $math10$ \n",
    "variations is left unexplained!</p>\n",
    "<p>This lack of explanatory power may not be too surprising because many other factors should influence $math10$; \n",
    "these factors are necessarily included in the errors in the regression analysis.</p>"
   ]
  },
  {
   "cell_type": "markdown",
   "id": "96e9da4e",
   "metadata": {},
   "source": [
    "<hr style=\"height:2px;border-width:0;color:gray;background-color:gray\">"
   ]
  },
  {
   "cell_type": "markdown",
   "id": "db2041cf",
   "metadata": {},
   "source": [
    "<a id=\"ttest\"></a>"
   ]
  },
  {
   "cell_type": "markdown",
   "id": "3af545b1",
   "metadata": {},
   "source": [
    "<h3>The $t$ test</h3>"
   ]
  },
  {
   "cell_type": "code",
   "execution_count": 24,
   "id": "a6d630e7",
   "metadata": {},
   "outputs": [
    {
     "data": {
      "text/plain": [
       "const      0.371949\n",
       "totcomp    4.570030\n",
       "staff      1.203593\n",
       "enroll    -0.917935\n",
       "dtype: float64"
      ]
     },
     "execution_count": 24,
     "metadata": {},
     "output_type": "execute_result"
    }
   ],
   "source": [
    "# t-scores\n",
    "results.tvalues"
   ]
  },
  {
   "cell_type": "markdown",
   "id": "951347d3",
   "metadata": {},
   "source": [
    "<a id=\"t-stat\"></a>"
   ]
  },
  {
   "cell_type": "code",
   "execution_count": 25,
   "id": "7f2b7944",
   "metadata": {},
   "outputs": [
    {
     "data": {
      "text/plain": [
       "Text(0.5, 1.0, 'The t Statistics of OLS Regression Equation')"
      ]
     },
     "execution_count": 25,
     "metadata": {},
     "output_type": "execute_result"
    },
    {
     "data": {
      "image/png": "[encoded data removed]",
      "text/plain": [
       "<Figure size 640x480 with 1 Axes>"
      ]
     },
     "metadata": {},
     "output_type": "display_data"
    }
   ],
   "source": [
    "# Plot the t statistics for a visual comparison:\n",
    "results.tvalues.index[1:]\n",
    "\n",
    "fig, ax = plt.subplots()\n",
    "\n",
    "ax.barh(results.tvalues.index[1:], results.tvalues.values[1:])\n",
    "ax.invert_yaxis()  # labels read top-to-bottom\n",
    "ax.set_title('The t Statistics of OLS Regression Equation')"
   ]
  },
  {
   "cell_type": "markdown",
   "id": "f54881e7",
   "metadata": {},
   "source": [
    "<hr style=\"height:2px;border-width:0;color:gray;background-color:gray\">"
   ]
  },
  {
   "cell_type": "code",
   "execution_count": 26,
   "id": "df82dfd3",
   "metadata": {},
   "outputs": [
    {
     "data": {
      "text/plain": [
       "404.0"
      ]
     },
     "execution_count": 26,
     "metadata": {},
     "output_type": "execute_result"
    }
   ],
   "source": [
    "# degrees of freedom \"residuals\"\n",
    "results.df_resid"
   ]
  },
  {
   "cell_type": "code",
   "execution_count": 27,
   "id": "df53f8e8",
   "metadata": {},
   "outputs": [
    {
     "data": {
      "text/plain": [
       "3.0"
      ]
     },
     "execution_count": 27,
     "metadata": {},
     "output_type": "execute_result"
    }
   ],
   "source": [
    "k = results.df_model\n",
    "k"
   ]
  },
  {
   "cell_type": "markdown",
   "id": "a637be01",
   "metadata": {},
   "source": [
    "<p>Degrees of freedom = 404 (greater than 120).<br />We use the standard normal critical value.</p>"
   ]
  },
  {
   "cell_type": "markdown",
   "id": "97455b73",
   "metadata": {},
   "source": [
    "<a id=\"c\"></a>"
   ]
  },
  {
   "cell_type": "code",
   "execution_count": 28,
   "id": "bc213f3e",
   "metadata": {},
   "outputs": [
    {
     "name": "stdout",
     "output_type": "stream",
     "text": [
      "Left-tailed critical z-value at 1% significance level:  -2.3263478740408408\n",
      "Left-tailed critical z-value at 5% significance level:  -1.6448536269514729\n",
      "Left-tailed critical z-value at 10% significance level:  -1.2815515655446004\n"
     ]
    }
   ],
   "source": [
    "# critical values\n",
    "\n",
    "# significance levels and critical region (also known as the rejection region)\n",
    "alpha1 = 0.01\n",
    "alpha5 = 0.05\n",
    "alpha10 = 0.1\n",
    "\n",
    "# scipy.stats.norm.ppf(alpha)\n",
    "c1 = st.norm.ppf(alpha1)\n",
    "c5 = st.norm.ppf(alpha5)\n",
    "c10 = st.norm.ppf(alpha10)\n",
    "print('Left-tailed critical z-value at 1% significance level: ', c1)\n",
    "print('Left-tailed critical z-value at 5% significance level: ', c5)\n",
    "print('Left-tailed critical z-value at 10% significance level: ', c10)"
   ]
  },
  {
   "cell_type": "code",
   "execution_count": 29,
   "id": "6c2c0e18",
   "metadata": {},
   "outputs": [
    {
     "data": {
      "text/plain": [
       "-0.9179348356508237"
      ]
     },
     "execution_count": 29,
     "metadata": {},
     "output_type": "execute_result"
    }
   ],
   "source": [
    "results.tvalues.enroll"
   ]
  },
  {
   "cell_type": "markdown",
   "id": "fa598de1",
   "metadata": {},
   "source": [
    "<a id=\"tres\"></a>"
   ]
  },
  {
   "cell_type": "markdown",
   "id": "5a1c1210",
   "metadata": {},
   "source": [
    "<h3>Results</h3>\n",
    "<p>We fail to reject $H_0$ in favor of $H_1$ at the 5% level.<br />We fail to reject $H_0$ even at the 10% level.<br />We conclude that $enroll$ is statistically <strong>insignificant</strong> at the 10% level.</p>"
   ]
  },
  {
   "cell_type": "markdown",
   "id": "b269c49f",
   "metadata": {},
   "source": [
    "<hr style=\"height:2px;border-width:0;color:gray;background-color:gray\">"
   ]
  },
  {
   "cell_type": "markdown",
   "id": "898c3d86",
   "metadata": {},
   "source": [
    "<a id=\"pval\"></a>"
   ]
  },
  {
   "cell_type": "code",
   "execution_count": 30,
   "id": "0edc7add",
   "metadata": {},
   "outputs": [
    {
     "data": {
      "text/plain": [
       "0.17960032741306386"
      ]
     },
     "execution_count": 30,
     "metadata": {},
     "output_type": "execute_result"
    }
   ],
   "source": [
    "# one-sided p-value\n",
    "results.pvalues.enroll / 2"
   ]
  },
  {
   "cell_type": "markdown",
   "id": "b9e75c8c",
   "metadata": {},
   "source": [
    "<hr style=\"height:2px;border-width:0;color:gray;background-color:gray\">"
   ]
  },
  {
   "cell_type": "markdown",
   "id": "c35b5049",
   "metadata": {},
   "source": [
    "<a id=\"ci\"></a>"
   ]
  },
  {
   "cell_type": "code",
   "execution_count": 31,
   "id": "3a530744",
   "metadata": {},
   "outputs": [
    {
     "data": {
      "text/html": [
       "<div>\n",
       "<style scoped>\n",
       "    .dataframe tbody tr th:only-of-type {\n",
       "        vertical-align: middle;\n",
       "    }\n",
       "\n",
       "    .dataframe tbody tr th {\n",
       "        vertical-align: top;\n",
       "    }\n",
       "\n",
       "    .dataframe thead th {\n",
       "        text-align: right;\n",
       "    }\n",
       "</style>\n",
       "<table border=\"1\" class=\"dataframe\">\n",
       "  <thead>\n",
       "    <tr style=\"text-align: right;\">\n",
       "      <th></th>\n",
       "      <th>0</th>\n",
       "      <th>1</th>\n",
       "    </tr>\n",
       "  </thead>\n",
       "  <tbody>\n",
       "    <tr>\n",
       "      <th>const</th>\n",
       "      <td>-9.744801</td>\n",
       "      <td>14.292842</td>\n",
       "    </tr>\n",
       "    <tr>\n",
       "      <th>totcomp</th>\n",
       "      <td>0.000261</td>\n",
       "      <td>0.000656</td>\n",
       "    </tr>\n",
       "    <tr>\n",
       "      <th>staff</th>\n",
       "      <td>-0.030349</td>\n",
       "      <td>0.126188</td>\n",
       "    </tr>\n",
       "    <tr>\n",
       "      <th>enroll</th>\n",
       "      <td>-0.000621</td>\n",
       "      <td>0.000226</td>\n",
       "    </tr>\n",
       "  </tbody>\n",
       "</table>\n",
       "</div>"
      ],
      "text/plain": [
       "                0          1\n",
       "const   -9.744801  14.292842\n",
       "totcomp  0.000261   0.000656\n",
       "staff   -0.030349   0.126188\n",
       "enroll  -0.000621   0.000226"
      ]
     },
     "execution_count": 31,
     "metadata": {},
     "output_type": "execute_result"
    }
   ],
   "source": [
    "#confidence interval\n",
    "results.conf_int(alpha=0.05)"
   ]
  },
  {
   "cell_type": "code",
   "execution_count": 32,
   "id": "387d99f9",
   "metadata": {},
   "outputs": [
    {
     "data": {
      "text/plain": [
       "pandas.core.frame.DataFrame"
      ]
     },
     "execution_count": 32,
     "metadata": {},
     "output_type": "execute_result"
    }
   ],
   "source": [
    "type(results.conf_int())"
   ]
  },
  {
   "cell_type": "code",
   "execution_count": 33,
   "id": "39e12504",
   "metadata": {},
   "outputs": [
    {
     "data": {
      "text/html": [
       "<div>\n",
       "<style scoped>\n",
       "    .dataframe tbody tr th:only-of-type {\n",
       "        vertical-align: middle;\n",
       "    }\n",
       "\n",
       "    .dataframe tbody tr th {\n",
       "        vertical-align: top;\n",
       "    }\n",
       "\n",
       "    .dataframe thead th {\n",
       "        text-align: right;\n",
       "    }\n",
       "</style>\n",
       "<table border=\"1\" class=\"dataframe\">\n",
       "  <thead>\n",
       "    <tr style=\"text-align: right;\">\n",
       "      <th></th>\n",
       "      <th>0</th>\n",
       "      <th>1</th>\n",
       "    </tr>\n",
       "  </thead>\n",
       "  <tbody>\n",
       "    <tr>\n",
       "      <th>enroll</th>\n",
       "      <td>-0.000621</td>\n",
       "      <td>0.000226</td>\n",
       "    </tr>\n",
       "  </tbody>\n",
       "</table>\n",
       "</div>"
      ],
      "text/plain": [
       "               0         1\n",
       "enroll -0.000621  0.000226"
      ]
     },
     "execution_count": 33,
     "metadata": {},
     "output_type": "execute_result"
    }
   ],
   "source": [
    "ci05 = results.conf_int(alpha=0.05)\n",
    "ci05.loc[['enroll']]"
   ]
  },
  {
   "cell_type": "markdown",
   "id": "972903f7",
   "metadata": {},
   "source": [
    "<hr style=\"height:2px;border-width:0;color:gray;background-color:gray\">"
   ]
  },
  {
   "cell_type": "markdown",
   "id": "1fdf0733",
   "metadata": {},
   "source": [
    "<a id=\"log\"></a>\n",
    "<p>We also estimate the model with the dependent variable in its original form (called level form), while the independent variables in logarithmic form.</p>\n",
    "<p>This allows, for example, the school size effect to <strong>diminish</strong> as school size increases.</p>\n",
    "\n",
    "<h2>The linear-log model</h2>\n",
    "<p style=\"text-align:center; font-size:1.5em; color:blue\">\n",
    "$\n",
    "\\widehat{math10} = \\beta_0 + \\beta_1 \\log{(totcomp)} +\\beta_2 \\log{(sta\\hspace{-0.1em}f\\hspace{-0.2em}f)} + \\beta_3\n",
    " \\log{(enroll)}\n",
    "$\n",
    "</p>\n",
    "\n",
    "<p><font size=\"4\" face=\"Times New Roman\"><em><strong>where</strong></em></font></p>\n",
    "\n",
    "<div style=\"width:90%; display:table; padding-left:3%\">\n",
    "    <div style=\"width:70%; display:table-row-group\">\n",
    "        <div style=\"display:table-row\">\n",
    "            <div style=\"display:table-cell\">$\\beta_1$</div>\n",
    "            <div style=\"display:table-cell; padding-left:2%\">is the elasticity of $totcomp$ with respect to $math10$,</div>\n",
    "        </div>\n",
    "        <div style=\"display: table-row\">\n",
    "            <div style=\"display:table-cell\">$\\beta_2$</div>\n",
    "            <div style=\"display:table-cell; padding-left:2%\">is the elasticity of $sta\\hspace{-0.1em}f\\hspace{-0.2em}f$ with respect to $math10$, and</div>\n",
    "        </div>\n",
    "        <div style=\"display: table-row\">\n",
    "            <div style=\"display:table-cell\">$\\beta_3$</div>\n",
    "            <div style=\"display:table-cell; padding-left:2%\">is the elasticity of $enroll$ with respect to $math10$.</div>\n",
    "        </div>\n",
    "    </div>\n",
    "</div>"
   ]
  },
  {
   "cell_type": "markdown",
   "id": "92e554ae",
   "metadata": {},
   "source": [
    "<hr style=\"height:2px;border-width:0;color:gray;background-color:gray\">"
   ]
  },
  {
   "cell_type": "markdown",
   "id": "e75c1576",
   "metadata": {},
   "source": [
    "<p style=\"font-size:1.2em\"><strong>From variable descriptions,</strong></p>\n",
    "<p></p>\n",
    "\n",
    "<div style=\"width:50%; display:table; padding-left:3%; font-size:1.1em\">\n",
    "    <div style=\"width:50%; display:table-row-group\">\n",
    "        <div style=\"display:table-row\">\n",
    "            <div style=\"display:table-cell\">$ltotcomp$</div>\n",
    "            <div style=\"display:table-cell\">$= \\log{(totcomp)}$,</div>\n",
    "        </div>\n",
    "        <div style=\"display:table-row\">\n",
    "            <div style=\"display:table-cell\">$lsta\\hspace{-0.1em}f\\hspace{-0.2em}f$</div>\n",
    "            <div style=\"display:table-cell\">$= \\log{(sta\\hspace{-0.1em}f\\hspace{-0.2em}f)}$, and</div>\n",
    "        </div>\n",
    "        <div style=\"display:table-row\">\n",
    "            <div style=\"display:table-cell\">$lenroll$</div>\n",
    "            <div style=\"display:table-cell\">$= \\log{(enroll)}$.</div>\n",
    "        </div>\n",
    "    </div>\n",
    "</div>"
   ]
  },
  {
   "cell_type": "markdown",
   "id": "9e935670",
   "metadata": {},
   "source": [
    "<hr style=\"height:2px;border-width:0;color:gray;background-color:gray\">"
   ]
  },
  {
   "cell_type": "code",
   "execution_count": 34,
   "id": "3bad75e6",
   "metadata": {},
   "outputs": [
    {
     "data": {
      "text/plain": [
       "Index(['lnchprg', 'enroll', 'staff', 'expend', 'salary', 'benefits',\n",
       "       'droprate', 'gradrate', 'math10', 'sci11', 'totcomp', 'ltotcomp',\n",
       "       'lexpend', 'lenroll', 'lstaff', 'bensal', 'lsalary'],\n",
       "      dtype='object')"
      ]
     },
     "execution_count": 34,
     "metadata": {},
     "output_type": "execute_result"
    }
   ],
   "source": [
    "df.columns"
   ]
  },
  {
   "cell_type": "markdown",
   "id": "960f204d",
   "metadata": {},
   "source": [
    "<a id=\"ltarget\"></a>"
   ]
  },
  {
   "cell_type": "code",
   "execution_count": 35,
   "id": "abd7289e",
   "metadata": {},
   "outputs": [
    {
     "data": {
      "text/html": [
       "<div>\n",
       "<style scoped>\n",
       "    .dataframe tbody tr th:only-of-type {\n",
       "        vertical-align: middle;\n",
       "    }\n",
       "\n",
       "    .dataframe tbody tr th {\n",
       "        vertical-align: top;\n",
       "    }\n",
       "\n",
       "    .dataframe thead th {\n",
       "        text-align: right;\n",
       "    }\n",
       "</style>\n",
       "<table border=\"1\" class=\"dataframe\">\n",
       "  <thead>\n",
       "    <tr style=\"text-align: right;\">\n",
       "      <th></th>\n",
       "      <th>math10</th>\n",
       "      <th>ltotcomp</th>\n",
       "      <th>lstaff</th>\n",
       "      <th>lenroll</th>\n",
       "    </tr>\n",
       "  </thead>\n",
       "  <tbody>\n",
       "    <tr>\n",
       "      <th>0</th>\n",
       "      <td>56.400002</td>\n",
       "      <td>10.712594</td>\n",
       "      <td>4.723842</td>\n",
       "      <td>7.529407</td>\n",
       "    </tr>\n",
       "    <tr>\n",
       "      <th>1</th>\n",
       "      <td>42.700001</td>\n",
       "      <td>10.986851</td>\n",
       "      <td>4.617099</td>\n",
       "      <td>9.337414</td>\n",
       "    </tr>\n",
       "    <tr>\n",
       "      <th>2</th>\n",
       "      <td>43.799999</td>\n",
       "      <td>10.856188</td>\n",
       "      <td>4.736198</td>\n",
       "      <td>8.947025</td>\n",
       "    </tr>\n",
       "    <tr>\n",
       "      <th>3</th>\n",
       "      <td>25.299999</td>\n",
       "      <td>10.533562</td>\n",
       "      <td>4.447346</td>\n",
       "      <td>7.045776</td>\n",
       "    </tr>\n",
       "    <tr>\n",
       "      <th>4</th>\n",
       "      <td>15.300000</td>\n",
       "      <td>10.472375</td>\n",
       "      <td>4.565389</td>\n",
       "      <td>7.360104</td>\n",
       "    </tr>\n",
       "  </tbody>\n",
       "</table>\n",
       "</div>"
      ],
      "text/plain": [
       "      math10   ltotcomp    lstaff   lenroll\n",
       "0  56.400002  10.712594  4.723842  7.529407\n",
       "1  42.700001  10.986851  4.617099  9.337414\n",
       "2  43.799999  10.856188  4.736198  8.947025\n",
       "3  25.299999  10.533562  4.447346  7.045776\n",
       "4  15.300000  10.472375  4.565389  7.360104"
      ]
     },
     "execution_count": 35,
     "metadata": {},
     "output_type": "execute_result"
    }
   ],
   "source": [
    "# target\n",
    "ldata = df[['math10', 'ltotcomp', 'lstaff', 'lenroll']]\n",
    "ldata.head()"
   ]
  },
  {
   "cell_type": "code",
   "execution_count": 43,
   "id": "dea36b45",
   "metadata": {},
   "outputs": [],
   "source": [
    "ldata = sm.add_constant(ldata)"
   ]
  },
  {
   "cell_type": "code",
   "execution_count": 44,
   "id": "20d17fc9",
   "metadata": {},
   "outputs": [
    {
     "data": {
      "text/plain": [
       "Index(['const', 'math10', 'ltotcomp', 'lstaff', 'lenroll'], dtype='object')"
      ]
     },
     "execution_count": 44,
     "metadata": {},
     "output_type": "execute_result"
    }
   ],
   "source": [
    "ldata.columns"
   ]
  },
  {
   "cell_type": "code",
   "execution_count": 45,
   "id": "c9ac91aa",
   "metadata": {},
   "outputs": [
    {
     "data": {
      "text/plain": [
       "statsmodels.regression.linear_model.OLS"
      ]
     },
     "execution_count": 45,
     "metadata": {},
     "output_type": "execute_result"
    }
   ],
   "source": [
    "lmodel = sm.OLS(endog=ldata['math10']\n",
    "               , exog=ldata[['const', 'ltotcomp', 'lstaff', 'lenroll']]\n",
    "              )\n",
    "type(lmodel)"
   ]
  },
  {
   "cell_type": "markdown",
   "id": "0956c6bc",
   "metadata": {},
   "source": [
    "<a id=\"lres\"></a>"
   ]
  },
  {
   "cell_type": "code",
   "execution_count": 46,
   "id": "7694178b",
   "metadata": {},
   "outputs": [
    {
     "data": {
      "text/html": [
       "<table class=\"simpletable\">\n",
       "<caption>OLS Regression Results</caption>\n",
       "<tr>\n",
       "  <th>Dep. Variable:</th>         <td>math10</td>      <th>  R-squared:         </th> <td>   0.065</td>\n",
       "</tr>\n",
       "<tr>\n",
       "  <th>Model:</th>                   <td>OLS</td>       <th>  Adj. R-squared:    </th> <td>   0.058</td>\n",
       "</tr>\n",
       "<tr>\n",
       "  <th>Method:</th>             <td>Least Squares</td>  <th>  F-statistic:       </th> <td>   9.420</td>\n",
       "</tr>\n",
       "<tr>\n",
       "  <th>Date:</th>             <td>Sat, 29 Jul 2023</td> <th>  Prob (F-statistic):</th> <td>4.97e-06</td>\n",
       "</tr>\n",
       "<tr>\n",
       "  <th>Time:</th>                 <td>06:37:18</td>     <th>  Log-Likelihood:    </th> <td> -1523.7</td>\n",
       "</tr>\n",
       "<tr>\n",
       "  <th>No. Observations:</th>      <td>   408</td>      <th>  AIC:               </th> <td>   3055.</td>\n",
       "</tr>\n",
       "<tr>\n",
       "  <th>Df Residuals:</th>          <td>   404</td>      <th>  BIC:               </th> <td>   3072.</td>\n",
       "</tr>\n",
       "<tr>\n",
       "  <th>Df Model:</th>              <td>     3</td>      <th>                     </th>     <td> </td>   \n",
       "</tr>\n",
       "<tr>\n",
       "  <th>Covariance Type:</th>      <td>nonrobust</td>    <th>                     </th>     <td> </td>   \n",
       "</tr>\n",
       "</table>\n",
       "<table class=\"simpletable\">\n",
       "<tr>\n",
       "      <td></td>        <th>coef</th>     <th>std err</th>      <th>t</th>      <th>P>|t|</th>  <th>[0.025</th>    <th>0.975]</th>  \n",
       "</tr>\n",
       "<tr>\n",
       "  <th>const</th>    <td> -207.6648</td> <td>   48.703</td> <td>   -4.264</td> <td> 0.000</td> <td> -303.408</td> <td> -111.922</td>\n",
       "</tr>\n",
       "<tr>\n",
       "  <th>ltotcomp</th> <td>   21.1550</td> <td>    4.056</td> <td>    5.216</td> <td> 0.000</td> <td>   13.182</td> <td>   29.128</td>\n",
       "</tr>\n",
       "<tr>\n",
       "  <th>lstaff</th>   <td>    3.9800</td> <td>    4.190</td> <td>    0.950</td> <td> 0.343</td> <td>   -4.256</td> <td>   12.216</td>\n",
       "</tr>\n",
       "<tr>\n",
       "  <th>lenroll</th>  <td>   -1.2680</td> <td>    0.693</td> <td>   -1.829</td> <td> 0.068</td> <td>   -2.631</td> <td>    0.095</td>\n",
       "</tr>\n",
       "</table>\n",
       "<table class=\"simpletable\">\n",
       "<tr>\n",
       "  <th>Omnibus:</th>       <td>27.703</td> <th>  Durbin-Watson:     </th> <td>   1.666</td>\n",
       "</tr>\n",
       "<tr>\n",
       "  <th>Prob(Omnibus):</th> <td> 0.000</td> <th>  Jarque-Bera (JB):  </th> <td>  34.495</td>\n",
       "</tr>\n",
       "<tr>\n",
       "  <th>Skew:</th>          <td> 0.568</td> <th>  Prob(JB):          </th> <td>3.23e-08</td>\n",
       "</tr>\n",
       "<tr>\n",
       "  <th>Kurtosis:</th>      <td> 3.860</td> <th>  Cond. No.          </th> <td>1.34e+03</td>\n",
       "</tr>\n",
       "</table><br/><br/>Notes:<br/>[1] Standard Errors assume that the covariance matrix of the errors is correctly specified.<br/>[2] The condition number is large, 1.34e+03. This might indicate that there are<br/>strong multicollinearity or other numerical problems."
      ],
      "text/latex": [
       "\\begin{center}\n",
       "\\begin{tabular}{lclc}\n",
       "\\toprule\n",
       "\\textbf{Dep. Variable:}    &      math10      & \\textbf{  R-squared:         } &     0.065   \\\\\n",
       "\\textbf{Model:}            &       OLS        & \\textbf{  Adj. R-squared:    } &     0.058   \\\\\n",
       "\\textbf{Method:}           &  Least Squares   & \\textbf{  F-statistic:       } &     9.420   \\\\\n",
       "\\textbf{Date:}             & Sat, 29 Jul 2023 & \\textbf{  Prob (F-statistic):} &  4.97e-06   \\\\\n",
       "\\textbf{Time:}             &     06:37:18     & \\textbf{  Log-Likelihood:    } &   -1523.7   \\\\\n",
       "\\textbf{No. Observations:} &         408      & \\textbf{  AIC:               } &     3055.   \\\\\n",
       "\\textbf{Df Residuals:}     &         404      & \\textbf{  BIC:               } &     3072.   \\\\\n",
       "\\textbf{Df Model:}         &           3      & \\textbf{                     } &             \\\\\n",
       "\\textbf{Covariance Type:}  &    nonrobust     & \\textbf{                     } &             \\\\\n",
       "\\bottomrule\n",
       "\\end{tabular}\n",
       "\\begin{tabular}{lcccccc}\n",
       "                  & \\textbf{coef} & \\textbf{std err} & \\textbf{t} & \\textbf{P$> |$t$|$} & \\textbf{[0.025} & \\textbf{0.975]}  \\\\\n",
       "\\midrule\n",
       "\\textbf{const}    &    -207.6648  &       48.703     &    -4.264  &         0.000        &     -303.408    &     -111.922     \\\\\n",
       "\\textbf{ltotcomp} &      21.1550  &        4.056     &     5.216  &         0.000        &       13.182    &       29.128     \\\\\n",
       "\\textbf{lstaff}   &       3.9800  &        4.190     &     0.950  &         0.343        &       -4.256    &       12.216     \\\\\n",
       "\\textbf{lenroll}  &      -1.2680  &        0.693     &    -1.829  &         0.068        &       -2.631    &        0.095     \\\\\n",
       "\\bottomrule\n",
       "\\end{tabular}\n",
       "\\begin{tabular}{lclc}\n",
       "\\textbf{Omnibus:}       & 27.703 & \\textbf{  Durbin-Watson:     } &    1.666  \\\\\n",
       "\\textbf{Prob(Omnibus):} &  0.000 & \\textbf{  Jarque-Bera (JB):  } &   34.495  \\\\\n",
       "\\textbf{Skew:}          &  0.568 & \\textbf{  Prob(JB):          } & 3.23e-08  \\\\\n",
       "\\textbf{Kurtosis:}      &  3.860 & \\textbf{  Cond. No.          } & 1.34e+03  \\\\\n",
       "\\bottomrule\n",
       "\\end{tabular}\n",
       "%\\caption{OLS Regression Results}\n",
       "\\end{center}\n",
       "\n",
       "Notes: \\newline\n",
       " [1] Standard Errors assume that the covariance matrix of the errors is correctly specified. \\newline\n",
       " [2] The condition number is large, 1.34e+03. This might indicate that there are \\newline\n",
       " strong multicollinearity or other numerical problems."
      ],
      "text/plain": [
       "<class 'statsmodels.iolib.summary.Summary'>\n",
       "\"\"\"\n",
       "                            OLS Regression Results                            \n",
       "==============================================================================\n",
       "Dep. Variable:                 math10   R-squared:                       0.065\n",
       "Model:                            OLS   Adj. R-squared:                  0.058\n",
       "Method:                 Least Squares   F-statistic:                     9.420\n",
       "Date:                Sat, 29 Jul 2023   Prob (F-statistic):           4.97e-06\n",
       "Time:                        06:37:18   Log-Likelihood:                -1523.7\n",
       "No. Observations:                 408   AIC:                             3055.\n",
       "Df Residuals:                     404   BIC:                             3072.\n",
       "Df Model:                           3                                         \n",
       "Covariance Type:            nonrobust                                         \n",
       "==============================================================================\n",
       "                 coef    std err          t      P>|t|      [0.025      0.975]\n",
       "------------------------------------------------------------------------------\n",
       "const       -207.6648     48.703     -4.264      0.000    -303.408    -111.922\n",
       "ltotcomp      21.1550      4.056      5.216      0.000      13.182      29.128\n",
       "lstaff         3.9800      4.190      0.950      0.343      -4.256      12.216\n",
       "lenroll       -1.2680      0.693     -1.829      0.068      -2.631       0.095\n",
       "==============================================================================\n",
       "Omnibus:                       27.703   Durbin-Watson:                   1.666\n",
       "Prob(Omnibus):                  0.000   Jarque-Bera (JB):               34.495\n",
       "Skew:                           0.568   Prob(JB):                     3.23e-08\n",
       "Kurtosis:                       3.860   Cond. No.                     1.34e+03\n",
       "==============================================================================\n",
       "\n",
       "Notes:\n",
       "[1] Standard Errors assume that the covariance matrix of the errors is correctly specified.\n",
       "[2] The condition number is large, 1.34e+03. This might indicate that there are\n",
       "strong multicollinearity or other numerical problems.\n",
       "\"\"\""
      ]
     },
     "execution_count": 46,
     "metadata": {},
     "output_type": "execute_result"
    }
   ],
   "source": [
    "lresults = lmodel.fit()\n",
    "lresults.summary()"
   ]
  },
  {
   "cell_type": "code",
   "execution_count": 47,
   "id": "f28634e0",
   "metadata": {},
   "outputs": [
    {
     "data": {
      "text/plain": [
       "const      -207.664785\n",
       "ltotcomp     21.154997\n",
       "lstaff        3.980018\n",
       "lenroll      -1.268046\n",
       "dtype: float64"
      ]
     },
     "execution_count": 47,
     "metadata": {},
     "output_type": "execute_result"
    }
   ],
   "source": [
    "lres = lresults.params\n",
    "lres"
   ]
  },
  {
   "cell_type": "markdown",
   "id": "c13504e2",
   "metadata": {},
   "source": [
    "<a id=\"lcoef\"></a>"
   ]
  },
  {
   "cell_type": "code",
   "execution_count": 48,
   "id": "6d0ddc77",
   "metadata": {},
   "outputs": [
    {
     "data": {
      "text/plain": [
       "Text(0.5, 1.0, 'Coefficients of the linear-log regression equation')"
      ]
     },
     "execution_count": 48,
     "metadata": {},
     "output_type": "execute_result"
    },
    {
     "data": {
      "image/png": "[encoded data removed]",
      "text/plain": [
       "<Figure size 640x480 with 1 Axes>"
      ]
     },
     "metadata": {},
     "output_type": "display_data"
    }
   ],
   "source": [
    "# Plot the coefficients, to visualise the impact of each variable on math10 for a quick comparison.\n",
    "\n",
    "fig, ax = plt.subplots()\n",
    "\n",
    "ax.barh(lres.index[1:], lres.values[1:])\n",
    "\n",
    "ax.invert_yaxis()  # labels read top-to-bottom\n",
    "ax.set_title('Coefficients of the linear-log regression equation')"
   ]
  },
  {
   "cell_type": "code",
   "execution_count": 49,
   "id": "0f16ca16",
   "metadata": {},
   "outputs": [
    {
     "data": {
      "text/plain": [
       "const      -207.664785\n",
       "ltotcomp     21.154997\n",
       "lstaff        3.980018\n",
       "lenroll      -1.268046\n",
       "dtype: float64"
      ]
     },
     "execution_count": 49,
     "metadata": {},
     "output_type": "execute_result"
    }
   ],
   "source": [
    "lres"
   ]
  },
  {
   "cell_type": "code",
   "execution_count": 50,
   "id": "4e054585",
   "metadata": {},
   "outputs": [
    {
     "data": {
      "text/plain": [
       "21.16"
      ]
     },
     "execution_count": 50,
     "metadata": {},
     "output_type": "execute_result"
    }
   ],
   "source": [
    "round(round(lres.ltotcomp, 4), 2)"
   ]
  },
  {
   "cell_type": "markdown",
   "id": "7c5aaea6",
   "metadata": {},
   "source": [
    "<a id=\"lreg-eq\"></a>\n",
    "<h3>Sample linear-log relationship</h3>\n",
    "<p style=\"text-align:center; font-size:1.5em; color:blue\">\n",
    "    $\n",
    "    \\widehat{math10} = -207.66 + 21.16 \\log{(totcomp)} + 3.98 \\log{(sta\\hspace{-0.1em}f\\hspace{-0.2em}f)} - 1.27 \\log{(enroll)}\n",
    "    $\n",
    "</p>"
   ]
  },
  {
   "cell_type": "markdown",
   "id": "8c71a75f",
   "metadata": {},
   "source": [
    "<h3>Interpretation</h3>\n",
    "<p>The change in $\\log{(enroll)}$, when multiplied by 100, is approximately the percentage change in $enroll$.<br />\n",
    "<strong>1%</strong> increase in student enrollment results in performance decrease by 0.0127 percentage points, holding $totcomp$ and $sta\\hspace{-0.1em}f\\hspace{-0.2em}f$ fixed.<br />\n",
    "<strong>10%</strong> increase in student enrollment results in performance decrease by 0.13 percentage points, holding $totcomp$ and $sta\\hspace{-0.1em}f\\hspace{-0.2em}f$ fixed.</p>"
   ]
  },
  {
   "cell_type": "markdown",
   "id": "24f5c895",
   "metadata": {},
   "source": [
    "<hr style=\"height:2px;border-width:0;color:gray;background-color:gray\">"
   ]
  },
  {
   "cell_type": "code",
   "execution_count": 51,
   "id": "739b94ef",
   "metadata": {},
   "outputs": [
    {
     "data": {
      "text/plain": [
       "0.0654"
      ]
     },
     "execution_count": 51,
     "metadata": {},
     "output_type": "execute_result"
    }
   ],
   "source": [
    "# r-squared\n",
    "round(lresults.rsquared, 4)"
   ]
  },
  {
   "cell_type": "markdown",
   "id": "cfb82a5e",
   "metadata": {},
   "source": [
    "<hr style=\"height:2px;border-width:0;color:gray;background-color:gray\">"
   ]
  },
  {
   "cell_type": "markdown",
   "id": "03de62a8",
   "metadata": {},
   "source": [
    "<a id=\"ltres\"></a>"
   ]
  },
  {
   "cell_type": "code",
   "execution_count": 52,
   "id": "db1b3cfb",
   "metadata": {},
   "outputs": [
    {
     "data": {
      "text/plain": [
       "-1.83"
      ]
     },
     "execution_count": 52,
     "metadata": {},
     "output_type": "execute_result"
    }
   ],
   "source": [
    "# t-statistic on log(enroll)\n",
    "round(lresults.tvalues.lenroll, 2)"
   ]
  },
  {
   "cell_type": "markdown",
   "id": "546253e8",
   "metadata": {},
   "source": [
    "<p style=\"font-size:1.2em\">$t_{\\log{(enroll)}} = -1.83$</p>\n",
    "<p style=\"font-size:1.2em\">We reject $H_0: \\beta_{\\log{(enroll)}} = 0$ in favor of $H_1: \\beta_{\\log{(enroll)}} < 0$ at the 5% level.</p>\n",
    "<p style=\"font-size:1.2em\">We conclude that $\\log{(enroll)}$ is statistically <strong>significant</strong> at the 5% level.</p>"
   ]
  },
  {
   "cell_type": "markdown",
   "id": "ac398bef",
   "metadata": {},
   "source": [
    "<hr style=\"height:2px;border-width:0;color:gray;background-color:gray\">"
   ]
  },
  {
   "cell_type": "markdown",
   "id": "d4abffa2",
   "metadata": {},
   "source": [
    "<a id=\"lpval\"></a>"
   ]
  },
  {
   "cell_type": "code",
   "execution_count": 53,
   "id": "8943a509",
   "metadata": {},
   "outputs": [
    {
     "data": {
      "text/plain": [
       "0.034049237313431104"
      ]
     },
     "execution_count": 53,
     "metadata": {},
     "output_type": "execute_result"
    }
   ],
   "source": [
    "# one-sided p-value\n",
    "lresults.pvalues.lenroll / 2"
   ]
  },
  {
   "cell_type": "markdown",
   "id": "04c4f0b1",
   "metadata": {},
   "source": [
    "<hr style=\"height:2px;border-width:0;color:gray;background-color:gray\">"
   ]
  },
  {
   "cell_type": "markdown",
   "id": "9e308109",
   "metadata": {},
   "source": [
    "<a id=\"lci\"></a>"
   ]
  },
  {
   "cell_type": "code",
   "execution_count": 54,
   "id": "83277156",
   "metadata": {},
   "outputs": [
    {
     "data": {
      "text/html": [
       "<div>\n",
       "<style scoped>\n",
       "    .dataframe tbody tr th:only-of-type {\n",
       "        vertical-align: middle;\n",
       "    }\n",
       "\n",
       "    .dataframe tbody tr th {\n",
       "        vertical-align: top;\n",
       "    }\n",
       "\n",
       "    .dataframe thead th {\n",
       "        text-align: right;\n",
       "    }\n",
       "</style>\n",
       "<table border=\"1\" class=\"dataframe\">\n",
       "  <thead>\n",
       "    <tr style=\"text-align: right;\">\n",
       "      <th></th>\n",
       "      <th>0</th>\n",
       "      <th>1</th>\n",
       "    </tr>\n",
       "  </thead>\n",
       "  <tbody>\n",
       "    <tr>\n",
       "      <th>const</th>\n",
       "      <td>-303.407983</td>\n",
       "      <td>-111.921587</td>\n",
       "    </tr>\n",
       "    <tr>\n",
       "      <th>ltotcomp</th>\n",
       "      <td>13.182382</td>\n",
       "      <td>29.127612</td>\n",
       "    </tr>\n",
       "    <tr>\n",
       "      <th>lstaff</th>\n",
       "      <td>-4.256239</td>\n",
       "      <td>12.216275</td>\n",
       "    </tr>\n",
       "    <tr>\n",
       "      <th>lenroll</th>\n",
       "      <td>-2.630784</td>\n",
       "      <td>0.094691</td>\n",
       "    </tr>\n",
       "  </tbody>\n",
       "</table>\n",
       "</div>"
      ],
      "text/plain": [
       "                   0           1\n",
       "const    -303.407983 -111.921587\n",
       "ltotcomp   13.182382   29.127612\n",
       "lstaff     -4.256239   12.216275\n",
       "lenroll    -2.630784    0.094691"
      ]
     },
     "execution_count": 54,
     "metadata": {},
     "output_type": "execute_result"
    }
   ],
   "source": [
    "#confidence interval\n",
    "lresults.conf_int(alpha=0.05)"
   ]
  },
  {
   "cell_type": "code",
   "execution_count": 55,
   "id": "29b135be",
   "metadata": {},
   "outputs": [
    {
     "data": {
      "text/html": [
       "<div>\n",
       "<style scoped>\n",
       "    .dataframe tbody tr th:only-of-type {\n",
       "        vertical-align: middle;\n",
       "    }\n",
       "\n",
       "    .dataframe tbody tr th {\n",
       "        vertical-align: top;\n",
       "    }\n",
       "\n",
       "    .dataframe thead th {\n",
       "        text-align: right;\n",
       "    }\n",
       "</style>\n",
       "<table border=\"1\" class=\"dataframe\">\n",
       "  <thead>\n",
       "    <tr style=\"text-align: right;\">\n",
       "      <th></th>\n",
       "      <th>0</th>\n",
       "      <th>1</th>\n",
       "    </tr>\n",
       "  </thead>\n",
       "  <tbody>\n",
       "    <tr>\n",
       "      <th>lenroll</th>\n",
       "      <td>-2.630784</td>\n",
       "      <td>0.094691</td>\n",
       "    </tr>\n",
       "  </tbody>\n",
       "</table>\n",
       "</div>"
      ],
      "text/plain": [
       "                0         1\n",
       "lenroll -2.630784  0.094691"
      ]
     },
     "execution_count": 55,
     "metadata": {},
     "output_type": "execute_result"
    }
   ],
   "source": [
    "lci05 = lresults.conf_int(alpha=0.05)\n",
    "lci05.loc[['lenroll']]"
   ]
  },
  {
   "cell_type": "markdown",
   "id": "77f4e7f9",
   "metadata": {},
   "source": [
    "<hr style=\"height:2px;border-width:0;color:gray;background-color:gray\">"
   ]
  },
  {
   "cell_type": "markdown",
   "id": "f6dfbf64",
   "metadata": {},
   "source": [
    "<a id=\"end\"></a>\n",
    "<h3>Conclusion</h3>\n",
    "<p style=\"font-size:1.2em\">The higher $R^2$ for the linear-log model (6.5% to 5.4%) means we explain more of the variation in math10 by using enroll in logarithmic form.</p>\n",
    "<p style=\"font-size:1.2em\">The linear-log model is preferred because it more closely captures the relationship between math10 and enroll.</p>"
   ]
  },
  {
   "cell_type": "markdown",
   "id": "1f2ae9b8",
   "metadata": {},
   "source": [
    "<hr style=\"height:2px;border-width:0;color:gray;background-color:gray\">"
   ]
  },
  {
   "cell_type": "code",
   "execution_count": null,
   "id": "55fae708",
   "metadata": {},
   "outputs": [],
   "source": []
  }
 ],
 "metadata": {
  "kernelspec": {
   "display_name": "Python 3 (ipykernel)",
   "language": "python",
   "name": "python3"
  },
  "language_info": {
   "codemirror_mode": {
    "name": "ipython",
    "version": 3
   },
   "file_extension": ".py",
   "mimetype": "text/x-python",
   "name": "python",
   "nbconvert_exporter": "python",
   "pygments_lexer": "ipython3",
   "version": "3.10.6"
  }
 },
 "nbformat": 4,
 "nbformat_minor": 5
}
